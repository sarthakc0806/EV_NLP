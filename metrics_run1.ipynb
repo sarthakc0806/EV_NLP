{
 "cells": [
  {
   "cell_type": "code",
   "execution_count": 1,
   "metadata": {},
   "outputs": [],
   "source": [
    "import pandas as pd"
   ]
  },
  {
   "cell_type": "code",
   "execution_count": 2,
   "metadata": {},
   "outputs": [],
   "source": [
    "df = pd.read_csv(\"metrics.csv\")"
   ]
  },
  {
   "cell_type": "code",
   "execution_count": 3,
   "metadata": {},
   "outputs": [
    {
     "data": {
      "text/html": [
       "<div>\n",
       "<style scoped>\n",
       "    .dataframe tbody tr th:only-of-type {\n",
       "        vertical-align: middle;\n",
       "    }\n",
       "\n",
       "    .dataframe tbody tr th {\n",
       "        vertical-align: top;\n",
       "    }\n",
       "\n",
       "    .dataframe thead th {\n",
       "        text-align: right;\n",
       "    }\n",
       "</style>\n",
       "<table border=\"1\" class=\"dataframe\">\n",
       "  <thead>\n",
       "    <tr style=\"text-align: right;\">\n",
       "      <th></th>\n",
       "      <th>Epoch</th>\n",
       "      <th>Loss</th>\n",
       "      <th>Accuracy</th>\n",
       "      <th>ROC</th>\n",
       "      <th>fbeta</th>\n",
       "    </tr>\n",
       "  </thead>\n",
       "  <tbody>\n",
       "    <tr>\n",
       "      <th>0</th>\n",
       "      <td>1</td>\n",
       "      <td>0.420590</td>\n",
       "      <td>0.838615</td>\n",
       "      <td>0.778236</td>\n",
       "      <td>0.574635</td>\n",
       "    </tr>\n",
       "    <tr>\n",
       "      <th>1</th>\n",
       "      <td>2</td>\n",
       "      <td>0.318681</td>\n",
       "      <td>0.880399</td>\n",
       "      <td>0.893419</td>\n",
       "      <td>0.727389</td>\n",
       "    </tr>\n",
       "    <tr>\n",
       "      <th>2</th>\n",
       "      <td>3</td>\n",
       "      <td>0.260009</td>\n",
       "      <td>0.901643</td>\n",
       "      <td>0.932080</td>\n",
       "      <td>0.800106</td>\n",
       "    </tr>\n",
       "    <tr>\n",
       "      <th>3</th>\n",
       "      <td>4</td>\n",
       "      <td>0.236856</td>\n",
       "      <td>0.906455</td>\n",
       "      <td>0.941306</td>\n",
       "      <td>0.802105</td>\n",
       "    </tr>\n",
       "    <tr>\n",
       "      <th>4</th>\n",
       "      <td>5</td>\n",
       "      <td>0.229213</td>\n",
       "      <td>0.907981</td>\n",
       "      <td>0.943626</td>\n",
       "      <td>0.800258</td>\n",
       "    </tr>\n",
       "    <tr>\n",
       "      <th>5</th>\n",
       "      <td>6</td>\n",
       "      <td>0.220439</td>\n",
       "      <td>0.912676</td>\n",
       "      <td>0.947737</td>\n",
       "      <td>0.815613</td>\n",
       "    </tr>\n",
       "    <tr>\n",
       "      <th>6</th>\n",
       "      <td>7</td>\n",
       "      <td>0.218347</td>\n",
       "      <td>0.911737</td>\n",
       "      <td>0.948981</td>\n",
       "      <td>0.811681</td>\n",
       "    </tr>\n",
       "    <tr>\n",
       "      <th>7</th>\n",
       "      <td>8</td>\n",
       "      <td>0.215181</td>\n",
       "      <td>0.915493</td>\n",
       "      <td>0.950336</td>\n",
       "      <td>0.819844</td>\n",
       "    </tr>\n",
       "    <tr>\n",
       "      <th>8</th>\n",
       "      <td>9</td>\n",
       "      <td>0.214697</td>\n",
       "      <td>0.915962</td>\n",
       "      <td>0.951050</td>\n",
       "      <td>0.818179</td>\n",
       "    </tr>\n",
       "    <tr>\n",
       "      <th>9</th>\n",
       "      <td>10</td>\n",
       "      <td>0.214182</td>\n",
       "      <td>0.915845</td>\n",
       "      <td>0.952247</td>\n",
       "      <td>0.825068</td>\n",
       "    </tr>\n",
       "    <tr>\n",
       "      <th>10</th>\n",
       "      <td>11</td>\n",
       "      <td>0.216500</td>\n",
       "      <td>0.916080</td>\n",
       "      <td>0.951672</td>\n",
       "      <td>0.816868</td>\n",
       "    </tr>\n",
       "    <tr>\n",
       "      <th>11</th>\n",
       "      <td>12</td>\n",
       "      <td>0.216882</td>\n",
       "      <td>0.915493</td>\n",
       "      <td>0.952732</td>\n",
       "      <td>0.823732</td>\n",
       "    </tr>\n",
       "    <tr>\n",
       "      <th>12</th>\n",
       "      <td>13</td>\n",
       "      <td>0.221930</td>\n",
       "      <td>0.915376</td>\n",
       "      <td>0.950908</td>\n",
       "      <td>0.815139</td>\n",
       "    </tr>\n",
       "    <tr>\n",
       "      <th>13</th>\n",
       "      <td>14</td>\n",
       "      <td>0.220448</td>\n",
       "      <td>0.915493</td>\n",
       "      <td>0.952311</td>\n",
       "      <td>0.821363</td>\n",
       "    </tr>\n",
       "    <tr>\n",
       "      <th>14</th>\n",
       "      <td>15</td>\n",
       "      <td>0.221953</td>\n",
       "      <td>0.915493</td>\n",
       "      <td>0.952059</td>\n",
       "      <td>0.821625</td>\n",
       "    </tr>\n",
       "    <tr>\n",
       "      <th>15</th>\n",
       "      <td>16</td>\n",
       "      <td>0.223032</td>\n",
       "      <td>0.916432</td>\n",
       "      <td>0.951625</td>\n",
       "      <td>0.821358</td>\n",
       "    </tr>\n",
       "    <tr>\n",
       "      <th>16</th>\n",
       "      <td>17</td>\n",
       "      <td>0.222665</td>\n",
       "      <td>0.915845</td>\n",
       "      <td>0.951813</td>\n",
       "      <td>0.820591</td>\n",
       "    </tr>\n",
       "    <tr>\n",
       "      <th>17</th>\n",
       "      <td>18</td>\n",
       "      <td>0.222637</td>\n",
       "      <td>0.915610</td>\n",
       "      <td>0.951948</td>\n",
       "      <td>0.821903</td>\n",
       "    </tr>\n",
       "    <tr>\n",
       "      <th>18</th>\n",
       "      <td>19</td>\n",
       "      <td>0.222719</td>\n",
       "      <td>0.915258</td>\n",
       "      <td>0.951991</td>\n",
       "      <td>0.821655</td>\n",
       "    </tr>\n",
       "    <tr>\n",
       "      <th>19</th>\n",
       "      <td>20</td>\n",
       "      <td>0.222717</td>\n",
       "      <td>0.915258</td>\n",
       "      <td>0.952002</td>\n",
       "      <td>0.821184</td>\n",
       "    </tr>\n",
       "  </tbody>\n",
       "</table>\n",
       "</div>"
      ],
      "text/plain": [
       "    Epoch      Loss   Accuracy       ROC     fbeta\n",
       "0       1  0.420590   0.838615  0.778236  0.574635\n",
       "1       2  0.318681   0.880399  0.893419  0.727389\n",
       "2       3  0.260009   0.901643  0.932080  0.800106\n",
       "3       4  0.236856   0.906455  0.941306  0.802105\n",
       "4       5  0.229213   0.907981  0.943626  0.800258\n",
       "5       6  0.220439   0.912676  0.947737  0.815613\n",
       "6       7  0.218347   0.911737  0.948981  0.811681\n",
       "7       8  0.215181   0.915493  0.950336  0.819844\n",
       "8       9  0.214697   0.915962  0.951050  0.818179\n",
       "9      10  0.214182   0.915845  0.952247  0.825068\n",
       "10     11  0.216500   0.916080  0.951672  0.816868\n",
       "11     12  0.216882   0.915493  0.952732  0.823732\n",
       "12     13  0.221930   0.915376  0.950908  0.815139\n",
       "13     14  0.220448   0.915493  0.952311  0.821363\n",
       "14     15  0.221953   0.915493  0.952059  0.821625\n",
       "15     16  0.223032   0.916432  0.951625  0.821358\n",
       "16     17  0.222665   0.915845  0.951813  0.820591\n",
       "17     18  0.222637   0.915610  0.951948  0.821903\n",
       "18     19  0.222719   0.915258  0.951991  0.821655\n",
       "19     20  0.222717   0.915258  0.952002  0.821184"
      ]
     },
     "metadata": {},
     "output_type": "display_data"
    }
   ],
   "source": [
    "display(df)"
   ]
  },
  {
   "cell_type": "code",
   "execution_count": 8,
   "metadata": {},
   "outputs": [
    {
     "data": {
      "text/plain": [
       "Text(0, 0.5, 'Loss')"
      ]
     },
     "execution_count": 8,
     "metadata": {},
     "output_type": "execute_result"
    },
    {
     "data": {
      "image/png": "[encoded data removed]",
      "text/plain": [
       "<Figure size 432x288 with 1 Axes>"
      ]
     },
     "metadata": {},
     "output_type": "display_data"
    }
   ],
   "source": [
    "import matplotlib.pyplot as plt\n",
    "\n",
    "plt.style.use('seaborn-whitegrid')\n",
    "plt.plot(df['Epoch'], df[' Loss'], color='#FFDD44')\n",
    "plt.xlabel(\"Epoch\")\n",
    "plt.ylabel(\"Loss\")"
   ]
  },
  {
   "cell_type": "code",
   "execution_count": 9,
   "metadata": {},
   "outputs": [
    {
     "data": {
      "text/plain": [
       "Text(0, 0.5, 'Accuracy')"
      ]
     },
     "execution_count": 9,
     "metadata": {},
     "output_type": "execute_result"
    },
    {
     "data": {
      "image/png": "[encoded data removed]",
      "text/plain": [
       "<Figure size 432x288 with 1 Axes>"
      ]
     },
     "metadata": {},
     "output_type": "display_data"
    }
   ],
   "source": [
    "plt.plot(df['Epoch'], df[' Accuracy'], color='#FFDD44')\n",
    "plt.xlabel(\"Epoch\")\n",
    "plt.ylabel(\"Accuracy\")"
   ]
  },
  {
   "cell_type": "code",
   "execution_count": 10,
   "metadata": {},
   "outputs": [
    {
     "data": {
      "text/plain": [
       "Text(0, 0.5, 'ROC')"
      ]
     },
     "execution_count": 10,
     "metadata": {},
     "output_type": "execute_result"
    },
    {
     "data": {
      "image/png": "[encoded data removed]",
      "text/plain": [
       "<Figure size 432x288 with 1 Axes>"
      ]
     },
     "metadata": {},
     "output_type": "display_data"
    }
   ],
   "source": [
    "plt.plot(df['Epoch'], df[' ROC'], color='#FFDD44')\n",
    "plt.xlabel(\"Epoch\")\n",
    "plt.ylabel(\"ROC\")"
   ]
  },
  {
   "cell_type": "code",
   "execution_count": 11,
   "metadata": {},
   "outputs": [
    {
     "data": {
      "text/plain": [
       "Text(0, 0.5, 'F1')"
      ]
     },
     "execution_count": 11,
     "metadata": {},
     "output_type": "execute_result"
    },
    {
     "data": {
      "image/png": "[encoded data removed]",
      "text/plain": [
       "<Figure size 432x288 with 1 Axes>"
      ]
     },
     "metadata": {},
     "output_type": "display_data"
    }
   ],
   "source": [
    "plt.plot(df['Epoch'], df[' fbeta'], color='#FFDD44')\n",
    "plt.xlabel(\"Epoch\")\n",
    "plt.ylabel(\"F1\")"
   ]
  },
  {
   "cell_type": "code",
   "execution_count": null,
   "metadata": {},
   "outputs": [],
   "source": []
  }
 ],
 "metadata": {
  "kernelspec": {
   "display_name": "Python 3",
   "language": "python",
   "name": "python3"
  },
  "language_info": {
   "codemirror_mode": {
    "name": "ipython",
    "version": 3
   },
   "file_extension": ".py",
   "mimetype": "text/x-python",
   "name": "python",
   "nbconvert_exporter": "python",
   "pygments_lexer": "ipython3",
   "version": "3.8.3"
  }
 },
 "nbformat": 4,
 "nbformat_minor": 4
}
